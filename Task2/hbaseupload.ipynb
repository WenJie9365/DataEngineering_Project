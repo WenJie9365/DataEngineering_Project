{
 "cells": [
  {
   "cell_type": "code",
   "execution_count": 11,
   "id": "8328785a-43bf-4e18-b922-1a2655457bc3",
   "metadata": {},
   "outputs": [],
   "source": [
    "import happybase\n",
    "import pandas as pd"
   ]
  },
  {
   "cell_type": "code",
   "execution_count": 12,
   "id": "f64153cf-2639-4cc2-ae69-80063246ffbc",
   "metadata": {},
   "outputs": [],
   "source": [
    "connection = happybase.Connection(port=9090)"
   ]
  },
  {
   "cell_type": "code",
   "execution_count": 13,
   "id": "81741279-bf47-4586-ad37-4f899ae8709a",
   "metadata": {},
   "outputs": [
    {
     "name": "stdout",
     "output_type": "stream",
     "text": [
      "[b'linkshare', b'linkshare1', b'linkshare2', b'linkshare4', b'mytable', b'mytable2', b'prj_pfx_mytable31', b'prj_pfx_user4table3', b'prj_pfx_wenjie3', b'shopee', b'shopee1', b'user4table', b'user4table2', b'wenjie', b'wenjie2']\n"
     ]
    }
   ],
   "source": [
    "print(connection.tables())"
   ]
  },
  {
   "cell_type": "code",
   "execution_count": 14,
   "id": "69445934-8ab4-4f05-9079-996e6cfd29b1",
   "metadata": {},
   "outputs": [],
   "source": [
    "connection.disable_table('shopee1')\n",
    "connection.delete_table('shopee1')"
   ]
  },
  {
   "cell_type": "code",
   "execution_count": 15,
   "id": "b4ebd1e6-9ed1-47ef-a523-7be3e8985cf9",
   "metadata": {},
   "outputs": [],
   "source": [
    "# Connect to HBase\n",
    "connection = happybase.Connection('localhost', port=9090)"
   ]
  },
  {
   "cell_type": "code",
   "execution_count": 16,
   "id": "cd29ead5-5f71-444a-b97c-57b82d220d89",
   "metadata": {},
   "outputs": [],
   "source": [
    "table_name = 'shopee1'"
   ]
  },
  {
   "cell_type": "code",
   "execution_count": 17,
   "id": "52086c06-55b9-4546-88c0-a94da51d1247",
   "metadata": {},
   "outputs": [],
   "source": [
    "connection.create_table(\n",
    "    table_name,\n",
    "    {\n",
    "        'cf1': dict(max_versions=10),\n",
    "        'cf2': dict(max_versions=1),\n",
    "    }\n",
    ")"
   ]
  },
  {
   "cell_type": "code",
   "execution_count": 18,
   "id": "5ba3777d-3496-4d30-a87c-26776f8f88b6",
   "metadata": {},
   "outputs": [],
   "source": [
    "df = pd.read_csv(\"processedData.csv\")"
   ]
  },
  {
   "cell_type": "code",
   "execution_count": 19,
   "id": "7661ff11-697f-4f27-a8e2-ed30e53e7ee0",
   "metadata": {},
   "outputs": [],
   "source": [
    "# Write the rows to HBase\n",
    "table = connection.table(table_name)\n",
    "for index, row in df.iterrows():\n",
    "    key = str(index)\n",
    "    data = {\n",
    "        'cf1:username': str(row['username']),\n",
    "        'cf1:rating': str(row['rating']),\n",
    "        'cf1:brand': str(row['brand']),\n",
    "        'cf1:model': str(row['model']),\n",
    "        'cf1:variation': str(row['variation']),\n",
    "        'cf1:description': str(row['description']),\n",
    "        'cf1:delivery_service': str(row['delivery_service']),\n",
    "        'cf1:product_quality': str(row['product_quality']),\n",
    "        'cf1:seller_service': str(row['seller_service']),\n",
    "        'cf2:comment': str(row['comment'])\n",
    "    }\n",
    "    table.put(key, data)\n"
   ]
  },
  {
   "cell_type": "code",
   "execution_count": 20,
   "id": "10886899-fd6c-424e-8919-3c67a8c16d2c",
   "metadata": {},
   "outputs": [
    {
     "name": "stdout",
     "output_type": "stream",
     "text": [
      "b'0' {b'cf1:brand': b'Apple', b'cf1:delivery_service': b'5.0', b'cf1:description': b\"iPhone\\\\u00a014\\\\u00a0Pro. Capture incredible detail with a 48MP Main camera. Experience iPhone in a whole new way with Dynamic\\\\u00a0Island and Always-On display. Crash Detection, a new safety feature, calls for help when you can\\\\u2019t.\\\\n\\\\nFeatures:\\\\n\\\\u2022 6.1-inch Super Retina XDR display featuring Always-On and ProMotion\\\\n\\\\u2022 Dynamic\\\\u00a0Island, a magical new way to interact with iPhone\\\\n\\\\u2022 48MP Main camera for up to 4x greater resolution\\\\n\\\\u2022 Cinematic mode now in 4K Dolby\\\\u00a0Vision up to 30\\\\u00a0fps\\\\n\\\\u2022 Action mode for smooth, steady, handheld videos\\\\n\\\\u2022 Vital safety technology \\\\u2014 Crash Detection1 calls for help when you can\\\\u2019t\\\\n\\\\u2022 All-day battery life and up to 23\\\\u00a0hours of video playback\\\\n\\\\u2022 A16\\\\u00a0Bionic, the ultimate smartphone chip\\\\n\\\\u2022 Industry-leading durability features with Ceramic\\\\u00a0Shield and water resistance\\\\n\\\\u2022 iOS\\\\u00a016 offers even more ways to personalise, communicate and share\\\\n\\\\nWhat's in the box\\\\n- iPhone 14 Pro\\\\n- USB-C to Lightning Cable\\\\n\", b'cf1:model': b'Apple iPhone 14 Pro', b'cf1:product_quality': b'5', b'cf1:rating': b'5', b'cf1:seller_service': b'5.0', b'cf1:username': b'n*****s', b'cf1:variation': b'Space Black,128GB', b'cf2:comment': b'performance high quality fast delivery quality excellent authentic product apple well packed received good condition good packaging fast delivery machine'}\n",
      "b'1' {b'cf1:brand': b'Apple', b'cf1:delivery_service': b'5.0', b'cf1:description': b\"iPhone\\\\u00a014\\\\u00a0Pro. Capture incredible detail with a 48MP Main camera. Experience iPhone in a whole new way with Dynamic\\\\u00a0Island and Always-On display. Crash Detection, a new safety feature, calls for help when you can\\\\u2019t.\\\\n\\\\nFeatures:\\\\n\\\\u2022 6.1-inch Super Retina XDR display featuring Always-On and ProMotion\\\\n\\\\u2022 Dynamic\\\\u00a0Island, a magical new way to interact with iPhone\\\\n\\\\u2022 48MP Main camera for up to 4x greater resolution\\\\n\\\\u2022 Cinematic mode now in 4K Dolby\\\\u00a0Vision up to 30\\\\u00a0fps\\\\n\\\\u2022 Action mode for smooth, steady, handheld videos\\\\n\\\\u2022 Vital safety technology \\\\u2014 Crash Detection1 calls for help when you can\\\\u2019t\\\\n\\\\u2022 All-day battery life and up to 23\\\\u00a0hours of video playback\\\\n\\\\u2022 A16\\\\u00a0Bionic, the ultimate smartphone chip\\\\n\\\\u2022 Industry-leading durability features with Ceramic\\\\u00a0Shield and water resistance\\\\n\\\\u2022 iOS\\\\u00a016 offers even more ways to personalise, communicate and share\\\\n\\\\nWhat's in the box\\\\n- iPhone 14 Pro\\\\n- USB-C to Lightning Cable\\\\n\", b'cf1:model': b'Apple iPhone 14 Pro', b'cf1:product_quality': b'5', b'cf1:rating': b'5', b'cf1:seller_service': b'5.0', b'cf1:username': b'mumys_baby', b'cf1:variation': b'Deep Purple,256GB', b'cf2:comment': b'performance high quality excellent good product recommended well packed received good term without damage'}\n",
      "b'10' {b'cf1:brand': b'Apple', b'cf1:delivery_service': b'5.0', b'cf1:description': b\"iPhone\\\\u00a014\\\\u00a0Pro. Capture incredible detail with a 48MP Main camera. Experience iPhone in a whole new way with Dynamic\\\\u00a0Island and Always-On display. Crash Detection, a new safety feature, calls for help when you can\\\\u2019t.\\\\n\\\\nFeatures:\\\\n\\\\u2022 6.1-inch Super Retina XDR display featuring Always-On and ProMotion\\\\n\\\\u2022 Dynamic\\\\u00a0Island, a magical new way to interact with iPhone\\\\n\\\\u2022 48MP Main camera for up to 4x greater resolution\\\\n\\\\u2022 Cinematic mode now in 4K Dolby\\\\u00a0Vision up to 30\\\\u00a0fps\\\\n\\\\u2022 Action mode for smooth, steady, handheld videos\\\\n\\\\u2022 Vital safety technology \\\\u2014 Crash Detection1 calls for help when you can\\\\u2019t\\\\n\\\\u2022 All-day battery life and up to 23\\\\u00a0hours of video playback\\\\n\\\\u2022 A16\\\\u00a0Bionic, the ultimate smartphone chip\\\\n\\\\u2022 Industry-leading durability features with Ceramic\\\\u00a0Shield and water resistance\\\\n\\\\u2022 iOS\\\\u00a016 offers even more ways to personalise, communicate and share\\\\n\\\\nWhat's in the box\\\\n- iPhone 14 Pro\\\\n- USB-C to Lightning Cable\\\\n\", b'cf1:model': b'Apple iPhone 14 Pro', b'cf1:product_quality': b'5', b'cf1:rating': b'5', b'cf1:seller_service': b'5.0', b'cf1:username': b'rashidmailbox', b'cf1:variation': b'Deep Purple,128GB', b'cf2:comment': b'quality best performance best fast delivery item well packed original trusted hopefully get best offer better price future complete apple ecosystem without need crack bank'}\n"
     ]
    }
   ],
   "source": [
    "# perform a scan operation on the table\n",
    "for key, data in table.scan(row_stop=b'100'):\n",
    "    print(key, data)\n",
    "    "
   ]
  },
  {
   "cell_type": "code",
   "execution_count": 21,
   "id": "aeebf9f7-39e4-4a48-8555-715101b9483e",
   "metadata": {},
   "outputs": [],
   "source": [
    "# Close the connection\n",
    "connection.close()"
   ]
  },
  {
   "cell_type": "code",
   "execution_count": null,
   "id": "a9d66c80-d49d-4df6-bb13-8bce1eccd103",
   "metadata": {},
   "outputs": [],
   "source": []
  }
 ],
 "metadata": {
  "kernelspec": {
   "display_name": "NgMinXiong",
   "language": "python",
   "name": "ngminxiong"
  },
  "language_info": {
   "codemirror_mode": {
    "name": "ipython",
    "version": 3
   },
   "file_extension": ".py",
   "mimetype": "text/x-python",
   "name": "python",
   "nbconvert_exporter": "python",
   "pygments_lexer": "ipython3",
   "version": "3.9.16"
  }
 },
 "nbformat": 4,
 "nbformat_minor": 5
}
